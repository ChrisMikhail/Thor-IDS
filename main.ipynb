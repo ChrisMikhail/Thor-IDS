{
 "cells": [
  {
   "cell_type": "code",
   "execution_count": null,
   "metadata": {},
   "outputs": [],
   "source": [
    "import os \n",
    "import pandas as pd \n",
    "import numpy as np \n",
    "import matplotlib.pyplot as plt \n",
    "import seaborn as sns \n",
    "import time "
   ]
  },
  {
   "cell_type": "code",
   "execution_count": null,
   "metadata": {},
   "outputs": [],
   "source": [
    "# reading features list \n",
    "with open(\"dataset/kddcup.names\", 'r') as f: \n",
    "    print(f.read()) "
   ]
  },
  {
   "cell_type": "code",
   "execution_count": 2,
   "metadata": {},
   "outputs": [
    {
     "name": "stdout",
     "output_type": "stream",
     "text": [
      "42\n"
     ]
    }
   ],
   "source": [
    "cols =\"\"\"duration, \n",
    "protocol_type, \n",
    "service, \n",
    "flag, \n",
    "src_bytes, \n",
    "dst_bytes, \n",
    "land, \n",
    "wrong_fragment, \n",
    "urgent, \n",
    "hot, \n",
    "num_failed_logins, \n",
    "logged_in, \n",
    "num_compromised, \n",
    "root_shell, \n",
    "su_attempted, \n",
    "num_root, \n",
    "num_file_creations, \n",
    "num_shells, \n",
    "num_access_files, \n",
    "num_outbound_cmds, \n",
    "is_host_login, \n",
    "is_guest_login, \n",
    "count, \n",
    "srv_count, \n",
    "serror_rate, \n",
    "srv_serror_rate, \n",
    "rerror_rate, \n",
    "srv_rerror_rate, \n",
    "same_srv_rate, \n",
    "diff_srv_rate, \n",
    "srv_diff_host_rate, \n",
    "dst_host_count, \n",
    "dst_host_srv_count, \n",
    "dst_host_same_srv_rate, \n",
    "dst_host_diff_srv_rate, \n",
    "dst_host_same_src_port_rate, \n",
    "dst_host_srv_diff_host_rate, \n",
    "dst_host_serror_rate, \n",
    "dst_host_srv_serror_rate, \n",
    "dst_host_rerror_rate, \n",
    "dst_host_srv_rerror_rate\"\"\"\n",
    "\n",
    "columns =[] \n",
    "for c in cols.split(', '): \n",
    "\tif(c.strip()): \n",
    "\t    columns.append(c.strip()) \n",
    "\n",
    "columns.append('target') \n",
    "print(len(columns)) "
   ]
  },
  {
   "cell_type": "code",
   "execution_count": null,
   "metadata": {},
   "outputs": [],
   "source": [
    "with open(\"dataset/training_attack_types\", 'r') as f: \n",
    "\tprint(f.read()) "
   ]
  }
 ],
 "metadata": {
  "kernelspec": {
   "display_name": "Python 3",
   "language": "python",
   "name": "python3"
  },
  "language_info": {
   "codemirror_mode": {
    "name": "ipython",
    "version": 3
   },
   "file_extension": ".py",
   "mimetype": "text/x-python",
   "name": "python",
   "nbconvert_exporter": "python",
   "pygments_lexer": "ipython3",
   "version": "3.10.4"
  }
 },
 "nbformat": 4,
 "nbformat_minor": 2
}
